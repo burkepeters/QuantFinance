{
 "cells": [
  {
   "cell_type": "code",
   "execution_count": 1,
   "metadata": {},
   "outputs": [],
   "source": [
    "import numpy as np\n",
    "import pandas as pd\n",
    "from sklearn.linear_model import LinearRegression\n",
    "import seaborn as sns\n",
    "import matplotlib.pyplot as plt\n",
    "import statsmodels.formula.api as smf\n",
    "from statsmodels.stats.diagnostic import normal_ad\n",
    "from statsmodels.stats.outliers_influence import variance_inflation_factor\n",
    "from statsmodels.stats.stattools import durbin_watson\n",
    "from statsmodels.stats.diagnostic import het_breuschpagan\n",
    "from statsmodels.stats.diagnostic import het_white\n",
    "from statsmodels.compat import lzip"
   ]
  },
  {
   "cell_type": "code",
   "execution_count": 2,
   "metadata": {},
   "outputs": [],
   "source": [
    "X = np.array([[1, 1], [1, 2], [2, 2], [2, 3]])\n",
    "y = np.dot(X, np.array([1, 2])) + 3"
   ]
  },
  {
   "cell_type": "code",
   "execution_count": 3,
   "metadata": {},
   "outputs": [],
   "source": [
    "class OLS():\n",
    "    def __init__(self, X, y):\n",
    "        self.X = X\n",
    "        self.y = y\n",
    "        self.reg = LinearRegression().fit(self.X, self.y)\n",
    "        predictions = self.reg.predict(self.X)\n",
    "        self.df_results = pd.DataFrame({'Actual': self.y, 'Predicted': predictions})\n",
    "        self.df_results['Residuals'] = abs(self.df_results['Actual']) - abs(self.df_results['Predicted'])\n",
    "        \n",
    "    def predict(self, X):\n",
    "        return self.reg.predict(X)\n",
    "    \n",
    "    def results(self):\n",
    "        print('R^2: {0}'.format(self.reg.score(self.X, self.y)))\n",
    "    \n",
    "    def linear_assumption(self):\n",
    "        df_results = self.df_results\n",
    "        print(\"Assumption 1: Linear Relationship exists between the DV and the IV(s).\", '\\n')\n",
    "        print(\"Checking with a scatter plot of actual vs. predicted.\",\n",
    "             'Preditions should follow the diagonal line.')\n",
    "        \n",
    "        sns.lmplot(x='Actual', y='Predicted', data=df_results, fit_reg=False, size=7)\n",
    "        \n",
    "        line_coords = np.arange(df_results.min().min(), df_results.max().max())\n",
    "        plt.plot(line_coords, line_coords,\n",
    "                color='darkorange', linestyle='--')\n",
    "        plt.title('Actual vs. Predicted')\n",
    "        plt.show()\n",
    "        \n",
    "    def normal_errors_assumption(self):\n",
    "        print(\"Assumption 2: The error terms are normally distributed.\", '\\n')\n",
    "        \n",
    "        print('Using the Anderson-Darling test for normal distribution:')\n",
    "        \n",
    "        p_value = normal_ad(self.df_results['Residuals'])[1]\n",
    "        print('p-value from the test - below 0.05 generally means non-normal:', p_value)\n",
    "        \n",
    "        if p_value < 0.05:\n",
    "            print('Residuals are not normally distributed.')\n",
    "        else:\n",
    "            print('Residuals are normally distributed.')\n",
    "            \n",
    "        plt.subplots(figsize=(12, 6))\n",
    "        plt.title('Distribution of Residuals')\n",
    "        sns.distplot(self.df_results['Residuals'])\n",
    "        plt.show()\n",
    "        \n",
    "        if p_value > 0.05:\n",
    "            print('Assumption satisfied.')\n",
    "        else:\n",
    "            print('Assumption not satisfied.')\n",
    "            print('Confidence intervals will likely be affected.')\n",
    "            print('Try performing nonlinear transformations on variables.')\n",
    "            \n",
    "    def multicollinearity_assumption(self, feature_names=None):\n",
    "        print(\"Assumption 3: Little to no multicollinearity among predictors.\")\n",
    "        \n",
    "        plt.figure(figsize=(10, 8))\n",
    "        sns.heatmap(pd.DataFrame(self.X, columns=feature_names).corr(), annot=True)\n",
    "        plt.title('Correlation of Variables')\n",
    "        plt.show()\n",
    "        \n",
    "        print('Variance Inflation Factors (VIF):')\n",
    "        print('>10: An indication that multicollinearity may be present.')\n",
    "        print('>100: Certain multicollinearity among the variables.')\n",
    "        print('------------------------------------')\n",
    "        \n",
    "        VIF = [variance_inflation_factor(self.X, i) for i in range(self.X.shape[1])]\n",
    "        for idx, vif in enumerate(VIF):\n",
    "            print('{0}: {1}'.format(feature_names[idx], vif))\n",
    "            \n",
    "        possible_multicollinearity = sum([1 for vif in VIF if vif > 10])\n",
    "        definite_multicollinearity = sum([1 for vif in VIF if vif > 100])\n",
    "        \n",
    "        print('{0} cases of possible multicollinearity.'.format(possible_multicollinearity))\n",
    "        print('{0} cases of definite multicollinearity.'.format(definite_multicollinearity))\n",
    "        \n",
    "        if definite_multicollinearity == 0:\n",
    "            if possible_multicollinearity == 0:\n",
    "                print('Assumption satisfied.')\n",
    "            else:\n",
    "                print(\"Assumption possibly satisfied.\")\n",
    "                print('Coefficient interpretability may be problematic.')\n",
    "                print('Consider removing variables with a high Variance Inflation Factor (VIF).')\n",
    "                \n",
    "        else:\n",
    "            print('Assumption not satisfied.')\n",
    "            print('Coefficient interpretability will be problematic.')\n",
    "            print('Consider removing variables with a high Variance Inflation Factor (VIF).')\n",
    "            \n",
    "    def autocorrelation_assumption(self):\n",
    "        print('Assumption 4: No Autocorrelation.', '\\n')\n",
    "        \n",
    "        print('\\nPerforming Durbin-Watson Test...')\n",
    "        print('Values of 1.5 < d < 2.5 generally show that there is no autocorrelation in the data.')\n",
    "        print('0 to 2 < is positive autocorrelation.')\n",
    "        print('>2 to 4 is negative autocorrelation.')\n",
    "        print('---------------------------------------')\n",
    "        \n",
    "        durbinWatson = durbin_watson(self.df_results['Residuals'])\n",
    "        \n",
    "        print('Durbin-Watson:', durbinWatson)\n",
    "        \n",
    "        if durbinWatson < 1.5:\n",
    "            print('Signs of positive autocorrelation.', '\\n')\n",
    "            print('Assumption not satisfied.')\n",
    "        elif durbinWatson > 2.5:\n",
    "            print('Signs of negative autocorrelation.', '\\n')\n",
    "            print('Assumption not satisfied.')\n",
    "        else:\n",
    "            print('Little to no autocorrelation.', '\\n')\n",
    "            print('Assumption satisfied.')\n",
    "            \n",
    "    def homoskedasticity_assumption(self):\n",
    "        print('Assumption 5: Homoskedasticity of Error Terms.', '\\n')\n",
    "        print('Residuals should have relative constant variance.')\n",
    "        \n",
    "        plt.subplots(figsize=(12, 6))\n",
    "        ax = plt.subplot(111)\n",
    "        plt.scatter(x=self.df_results.index, y=self.df_results.Residuals, alpha=0.5)\n",
    "        plt.plot(np.repeat(0, self.df_results.index.max()), color='darkorange', linestyle='--')\n",
    "        ax.spines['right'].set_visible(False)\n",
    "        ax.spines['top'].set_visible(False)\n",
    "        plt.title('Residuals')\n",
    "        plt.show()\n",
    "        \n",
    "        names = ['Lagrange multiplier statistic', 'p-value',\n",
    "                'f-value', 'f p-value']\n",
    "        \n",
    "        test = het_breuschpagan(self.df_results['Residuals'], self.X)\n",
    "        \n",
    "        results = lzip(names, test)\n",
    "        \n",
    "        print(results, '\\n')\n",
    "        print(results[1][1])\n",
    "        \n",
    "        if results[1][1] >= 0.05:\n",
    "            print(\"Because the p-value is not less than 0.05, we fail to reject the null hypothesis.\\n\")\n",
    "            print(\n",
    "                \"We do not have sufficient evidence to say that heteroskedasticity is present in the regression model.\"\n",
    "            )\n",
    "            \n",
    "        else:\n",
    "            print(\"Because the p-value is less than 0.05, we reject the null hypothesis in favor of\\n\")\n",
    "            print(\"the alternative hypothesis.\\n\")\n",
    "            print(\"We have sufficient evidence to say that heteroskedasticity is present in the regression model.\")\n",
    "            print(\"\\nWe should try transforming the DV by taking it's log instead or find a new definition of\")\n",
    "            print(\"the dependent variable. One way to do this would be to take the rate instead of the raw value.\")"
   ]
  },
  {
   "cell_type": "code",
   "execution_count": 4,
   "metadata": {},
   "outputs": [],
   "source": [
    "ols = OLS(X, y)"
   ]
  },
  {
   "cell_type": "code",
   "execution_count": 5,
   "metadata": {},
   "outputs": [
    {
     "name": "stdout",
     "output_type": "stream",
     "text": [
      "Assumption 1: Linear Relationship exists between the DV and the IV(s). \n",
      "\n",
      "Checking with a scatter plot of actual vs. predicted. Preditions should follow the diagonal line.\n"
     ]
    },
    {
     "name": "stderr",
     "output_type": "stream",
     "text": [
      "C:\\Users\\Burke Peters\\Anaconda3\\lib\\site-packages\\seaborn\\regression.py:546: UserWarning: The `size` paramter has been renamed to `height`; please update your code.\n",
      "  warnings.warn(msg, UserWarning)\n"
     ]
    },
    {
     "data": {
      "image/png": "[encoded data removed]",
      "text/plain": [
       "<Figure size 504x504 with 1 Axes>"
      ]
     },
     "metadata": {
      "needs_background": "light"
     },
     "output_type": "display_data"
    }
   ],
   "source": [
    "ols.linear_assumption()"
   ]
  },
  {
   "cell_type": "code",
   "execution_count": 6,
   "metadata": {},
   "outputs": [
    {
     "name": "stdout",
     "output_type": "stream",
     "text": [
      "Assumption 2: The error terms are normally distributed. \n",
      "\n",
      "Using the Anderson-Darling test for normal distribution:\n",
      "p-value from the test - below 0.05 generally means non-normal: 0.007060970845461353\n",
      "Residuals are not normally distributed.\n"
     ]
    },
    {
     "name": "stderr",
     "output_type": "stream",
     "text": [
      "C:\\Users\\Burke Peters\\Anaconda3\\lib\\site-packages\\statsmodels\\stats\\_adnorm.py:66: FutureWarning: Using a non-tuple sequence for multidimensional indexing is deprecated; use `arr[tuple(seq)]` instead of `arr[seq]`. In the future this will be interpreted as an array index, `arr[np.array(seq)]`, which will result either in an error or a different result.\n",
      "  S = np.sum((2*i[sl1]-1.0)/N*(np.log(z)+np.log(1-z[sl2])), axis=axis)\n"
     ]
    },
    {
     "data": {
      "image/png": "[encoded data removed]",
      "text/plain": [
       "<Figure size 864x432 with 1 Axes>"
      ]
     },
     "metadata": {
      "needs_background": "light"
     },
     "output_type": "display_data"
    },
    {
     "name": "stdout",
     "output_type": "stream",
     "text": [
      "Assumption not satisfied.\n",
      "Confidence intervals will likely be affected.\n",
      "Try performing nonlinear transformations on variables.\n"
     ]
    }
   ],
   "source": [
    "ols.normal_errors_assumption()"
   ]
  },
  {
   "cell_type": "code",
   "execution_count": 7,
   "metadata": {},
   "outputs": [
    {
     "name": "stdout",
     "output_type": "stream",
     "text": [
      "Assumption 3: Little to no multicollinearity among predictors.\n"
     ]
    },
    {
     "data": {
      "image/png": "[encoded data removed]",
      "text/plain": [
       "<Figure size 720x576 with 2 Axes>"
      ]
     },
     "metadata": {
      "needs_background": "light"
     },
     "output_type": "display_data"
    },
    {
     "name": "stdout",
     "output_type": "stream",
     "text": [
      "Variance Inflation Factors (VIF):\n",
      ">10: An indication that multicollinearity may be present.\n",
      ">100: Certain multicollinearity among the variables.\n",
      "------------------------------------\n",
      "x1: 16.363636363636363\n",
      "x2: 16.363636363636363\n",
      "2 cases of possible multicollinearity.\n",
      "0 cases of definite multicollinearity.\n",
      "Assumption possibly satisfied.\n",
      "Coefficient interpretability may be problematic.\n",
      "Consider removing variables with a high Variance Inflation Factor (VIF).\n"
     ]
    }
   ],
   "source": [
    "ols.multicollinearity_assumption(['x1', 'x2'])"
   ]
  },
  {
   "cell_type": "code",
   "execution_count": 8,
   "metadata": {},
   "outputs": [
    {
     "name": "stdout",
     "output_type": "stream",
     "text": [
      "Assumption 4: No Autocorrelation. \n",
      "\n",
      "\n",
      "Performing Durbin-Watson Test...\n",
      "Values of 1.5 < d < 2.5 generally show that there is no autocorrelation in the data.\n",
      "0 to 2 < is positive autocorrelation.\n",
      ">2 to 4 is negative autocorrelation.\n",
      "---------------------------------------\n",
      "Durbin-Watson: 1.0\n",
      "Signs of positive autocorrelation. \n",
      "\n",
      "Assumption not satisfied.\n"
     ]
    }
   ],
   "source": [
    "ols.autocorrelation_assumption()"
   ]
  },
  {
   "cell_type": "code",
   "execution_count": 9,
   "metadata": {},
   "outputs": [
    {
     "name": "stdout",
     "output_type": "stream",
     "text": [
      "Assumption 5: Homoskedasticity of Error Terms. \n",
      "\n",
      "Residuals should have relative constant variance.\n"
     ]
    },
    {
     "data": {
      "image/png": "[encoded data removed]",
      "text/plain": [
       "<Figure size 864x432 with 1 Axes>"
      ]
     },
     "metadata": {
      "needs_background": "light"
     },
     "output_type": "display_data"
    },
    {
     "name": "stdout",
     "output_type": "stream",
     "text": [
      "[('Lagrange multiplier statistic', 0.7272727272727271), ('p-value', 0.3937686346429927), ('f-value', 0.22222222222222215), ('f p-value', 0.8181818181818182)] \n",
      "\n",
      "0.3937686346429927\n",
      "Because the p-value is not less than 0.05, we fail to reject the null hypothesis.\n",
      "\n",
      "We do not have sufficient evidence to say that heteroskedasticity is present in the regression model.\n"
     ]
    }
   ],
   "source": [
    "ols.homoskedasticity_assumption()"
   ]
  }
 ],
 "metadata": {
  "kernelspec": {
   "display_name": "Python 3",
   "language": "python",
   "name": "python3"
  },
  "language_info": {
   "codemirror_mode": {
    "name": "ipython",
    "version": 3
   },
   "file_extension": ".py",
   "mimetype": "text/x-python",
   "name": "python",
   "nbconvert_exporter": "python",
   "pygments_lexer": "ipython3",
   "version": "3.7.3"
  }
 },
 "nbformat": 4,
 "nbformat_minor": 2
}
