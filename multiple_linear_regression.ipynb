{
 "cells": [
  {
   "cell_type": "code",
   "execution_count": 1,
   "metadata": {},
   "outputs": [],
   "source": [
    "import numpy as np\n",
    "import pandas as pd\n",
    "from sklearn.linear_model import LinearRegression\n",
    "import seaborn as sns\n",
    "import matplotlib.pyplot as plt\n",
    "import statsmodels.formula.api as smf\n",
    "from statsmodels.stats.diagnostic import normal_ad\n",
    "from statsmodels.stats.outliers_influence import variance_inflation_factor\n",
    "from statsmodels.stats.stattools import durbin_watson\n",
    "from statsmodels.stats.diagnostic import het_breuschpagan\n",
    "from statsmodels.stats.diagnostic import het_white\n",
    "from statsmodels.compat import lzip\n",
    "import statsmodels.api as sm"
   ]
  },
  {
   "cell_type": "markdown",
   "metadata": {},
   "source": [
    "The \"Duncan\" data from statsmodels has 45 rows and 4 columns and contains data on the 'prestige' and other characteristics of some U.S. occupations in the year 1950:"
   ]
  },
  {
   "cell_type": "code",
   "execution_count": 17,
   "metadata": {},
   "outputs": [],
   "source": [
    "duncan_prestige = sm.datasets.get_rdataset(\"Duncan\", \"carData\")\n",
    "Y = duncan_prestige.data['income']\n",
    "X = duncan_prestige.data[['education', 'prestige']]\n",
    "X = sm.add_constant(X)"
   ]
  },
  {
   "cell_type": "code",
   "execution_count": 18,
   "metadata": {},
   "outputs": [
    {
     "data": {
      "text/html": [
       "<div>\n",
       "<style scoped>\n",
       "    .dataframe tbody tr th:only-of-type {\n",
       "        vertical-align: middle;\n",
       "    }\n",
       "\n",
       "    .dataframe tbody tr th {\n",
       "        vertical-align: top;\n",
       "    }\n",
       "\n",
       "    .dataframe thead th {\n",
       "        text-align: right;\n",
       "    }\n",
       "</style>\n",
       "<table border=\"1\" class=\"dataframe\">\n",
       "  <thead>\n",
       "    <tr style=\"text-align: right;\">\n",
       "      <th></th>\n",
       "      <th>type</th>\n",
       "      <th>income</th>\n",
       "      <th>education</th>\n",
       "      <th>prestige</th>\n",
       "    </tr>\n",
       "  </thead>\n",
       "  <tbody>\n",
       "    <tr>\n",
       "      <th>accountant</th>\n",
       "      <td>prof</td>\n",
       "      <td>62</td>\n",
       "      <td>86</td>\n",
       "      <td>82</td>\n",
       "    </tr>\n",
       "    <tr>\n",
       "      <th>pilot</th>\n",
       "      <td>prof</td>\n",
       "      <td>72</td>\n",
       "      <td>76</td>\n",
       "      <td>83</td>\n",
       "    </tr>\n",
       "    <tr>\n",
       "      <th>architect</th>\n",
       "      <td>prof</td>\n",
       "      <td>75</td>\n",
       "      <td>92</td>\n",
       "      <td>90</td>\n",
       "    </tr>\n",
       "    <tr>\n",
       "      <th>author</th>\n",
       "      <td>prof</td>\n",
       "      <td>55</td>\n",
       "      <td>90</td>\n",
       "      <td>76</td>\n",
       "    </tr>\n",
       "    <tr>\n",
       "      <th>chemist</th>\n",
       "      <td>prof</td>\n",
       "      <td>64</td>\n",
       "      <td>86</td>\n",
       "      <td>90</td>\n",
       "    </tr>\n",
       "  </tbody>\n",
       "</table>\n",
       "</div>"
      ],
      "text/plain": [
       "            type  income  education  prestige\n",
       "accountant  prof      62         86        82\n",
       "pilot       prof      72         76        83\n",
       "architect   prof      75         92        90\n",
       "author      prof      55         90        76\n",
       "chemist     prof      64         86        90"
      ]
     },
     "execution_count": 18,
     "metadata": {},
     "output_type": "execute_result"
    }
   ],
   "source": [
    "duncan_prestige.data.head()"
   ]
  },
  {
   "cell_type": "code",
   "execution_count": 19,
   "metadata": {},
   "outputs": [],
   "source": [
    "class OLS():\n",
    "    def __init__(self, X, y):\n",
    "        self.X = X\n",
    "        self.y = y\n",
    "        self.reg = LinearRegression().fit(self.X, self.y)\n",
    "        # self.reg = sm.OLS(self.y, self.X)\n",
    "        self.summary = sm.OLS(self.y, self.X).fit().summary()\n",
    "        predictions = self.reg.predict(self.X)\n",
    "        # predictions = self.reg.fit()\n",
    "        self.df_results = pd.DataFrame({'Actual': self.y, 'Predicted': predictions})\n",
    "        self.df_results['Residuals'] = abs(self.df_results['Actual']) - abs(self.df_results['Predicted'])\n",
    "        \n",
    "    def predict(self, X):\n",
    "        return self.reg.predict(X)\n",
    "    \n",
    "    def results(self):\n",
    "        print('R^2: {0}'.format(self.reg.score(self.X, self.y)))\n",
    "    \n",
    "    def linear_assumption(self):\n",
    "        df_results = self.df_results\n",
    "        print(\"Assumption 1: Linear Relationship exists between the DV and the IV(s).\", '\\n')\n",
    "        print(\"Checking with a scatter plot of actual vs. predicted.\",\n",
    "             'Preditions should follow the diagonal line.')\n",
    "        \n",
    "        sns.lmplot(x='Actual', y='Predicted', data=df_results, fit_reg=False, height=7)\n",
    "        \n",
    "        line_coords = np.arange(df_results.min().min(), df_results.max().max())\n",
    "        plt.plot(line_coords, line_coords,\n",
    "                color='darkorange', linestyle='--')\n",
    "        plt.title('Actual vs. Predicted')\n",
    "        plt.show()\n",
    "        \n",
    "    def normal_errors_assumption(self):\n",
    "        print(\"Assumption 2: The error terms are normally distributed.\", '\\n')\n",
    "        \n",
    "        print('Using the Anderson-Darling test for normal distribution:')\n",
    "        \n",
    "        p_value = normal_ad(self.df_results['Residuals'])[1]\n",
    "        print('p-value from the test - below 0.05 generally means non-normal:', round(p_value, 2))\n",
    "        \n",
    "        if round(p_value, 2) < 0.05:\n",
    "            print('Residuals are not normally distributed.')\n",
    "        else:\n",
    "            print('Residuals are normally distributed.')\n",
    "            \n",
    "        plt.subplots(figsize=(12, 6))\n",
    "        plt.title('Distribution of Residuals')\n",
    "        sns.histplot(self.df_results['Residuals'])\n",
    "        plt.show()\n",
    "        \n",
    "        if p_value > 0.05:\n",
    "            print('Assumption satisfied.')\n",
    "        else:\n",
    "            print('Assumption not satisfied.')\n",
    "            print('Confidence intervals will likely be affected.')\n",
    "            print('Try performing nonlinear transformations on variables.')\n",
    "            \n",
    "    def multicollinearity_assumption(self, feature_names=None):\n",
    "        print(\"Assumption 3: Little to no multicollinearity among predictors.\")\n",
    "        \n",
    "        plt.figure(figsize=(10, 8))\n",
    "        sns.heatmap(pd.DataFrame(self.X, columns=feature_names).corr(), annot=True)\n",
    "        plt.title('Correlation of Variables')\n",
    "        plt.show()\n",
    "        \n",
    "        print('Variance Inflation Factors (VIF):')\n",
    "        print('>10: An indication that multicollinearity may be present.')\n",
    "        print('>100: Certain multicollinearity among the variables.')\n",
    "        print('------------------------------------')\n",
    "        \n",
    "        VIF = [variance_inflation_factor(self.X.values, i) for i in range(len(self.X.columns))]\n",
    "        for idx, vif in enumerate(VIF):\n",
    "            print('{0}: {1}'.format(idx, vif))\n",
    "            \n",
    "        possible_multicollinearity = sum([1 for vif in VIF if vif > 10])\n",
    "        definite_multicollinearity = sum([1 for vif in VIF if vif > 100])\n",
    "        \n",
    "        print('{0} cases of possible multicollinearity.'.format(possible_multicollinearity))\n",
    "        print('{0} cases of definite multicollinearity.'.format(definite_multicollinearity))\n",
    "        \n",
    "        if definite_multicollinearity == 0:\n",
    "            if possible_multicollinearity == 0:\n",
    "                print('Assumption satisfied.')\n",
    "            else:\n",
    "                print(\"Assumption possibly satisfied.\")\n",
    "                print('Coefficient interpretability may be problematic.')\n",
    "                print('Consider removing variables with a high Variance Inflation Factor (VIF).')\n",
    "                \n",
    "        else:\n",
    "            print('Assumption not satisfied.')\n",
    "            print('Coefficient interpretability will be problematic.')\n",
    "            print('Consider removing variables with a high Variance Inflation Factor (VIF).')\n",
    "            \n",
    "    def autocorrelation_assumption(self):\n",
    "        print('Assumption 4: No Autocorrelation.', '\\n')\n",
    "        \n",
    "        print('\\nPerforming Durbin-Watson Test...')\n",
    "        print('Values of 1.5 < d < 2.5 generally show that there is no autocorrelation in the data.')\n",
    "        print('0 to 2 < is positive autocorrelation.')\n",
    "        print('>2 to 4 is negative autocorrelation.')\n",
    "        print('---------------------------------------')\n",
    "        \n",
    "        durbinWatson = durbin_watson(self.df_results['Residuals'])\n",
    "        \n",
    "        print('Durbin-Watson:', durbinWatson)\n",
    "        \n",
    "        if durbinWatson < 1.5:\n",
    "            print('Signs of positive autocorrelation.', '\\n')\n",
    "            print('Assumption not satisfied.')\n",
    "        elif durbinWatson > 2.5:\n",
    "            print('Signs of negative autocorrelation.', '\\n')\n",
    "            print('Assumption not satisfied.')\n",
    "        else:\n",
    "            print('Little to no autocorrelation.', '\\n')\n",
    "            print('Assumption satisfied.')\n",
    "            \n",
    "    def homoskedasticity_assumption(self):\n",
    "        print('Assumption 5: Homoskedasticity of Error Terms.', '\\n')\n",
    "        print('Residuals should have relative constant variance.')\n",
    "        \n",
    "        plt.subplots(figsize=(12, 6))\n",
    "        ax = plt.subplot(111)\n",
    "        plt.scatter(x=self.df_results.index, y=self.df_results.Residuals, alpha=0.5)\n",
    "        plt.plot(np.repeat(0, int(len(self.df_results))), color='darkorange', linestyle='--')\n",
    "        ax.spines['right'].set_visible(False)\n",
    "        ax.spines['top'].set_visible(False)\n",
    "        plt.title('Residuals')\n",
    "        plt.show()\n",
    "        \n",
    "        names = ['Lagrange multiplier statistic', 'p-value',\n",
    "                'f-value', 'f p-value']\n",
    "        \n",
    "        test = het_breuschpagan(self.df_results['Residuals'], self.X)\n",
    "        \n",
    "        results = lzip(names, test)\n",
    "        \n",
    "        print(results, '\\n')\n",
    "        print(results[1][1])\n",
    "        \n",
    "        if results[1][1] >= 0.05:\n",
    "            print(\"Because the p-value is not less than 0.05, we fail to reject the null hypothesis.\\n\")\n",
    "            print(\n",
    "                \"We do not have sufficient evidence to say that heteroskedasticity is present in the regression model.\"\n",
    "            )\n",
    "            \n",
    "        else:\n",
    "            print(\"Because the p-value is less than 0.05, we reject the null hypothesis in favor of\\n\")\n",
    "            print(\"the alternative hypothesis.\\n\")\n",
    "            print(\"We have sufficient evidence to say that heteroskedasticity is present in the regression model.\")\n",
    "            print(\"\\nWe should try transforming the DV by taking it's log instead or find a new definition of\")\n",
    "            print(\"the dependent variable. One way to do this would be to take the rate instead of the raw value.\")\n",
    "            \n",
    "    def all_assumptions(self):\n",
    "        self.linear_assumption()\n",
    "        print('-' * 120)\n",
    "        ols.normal_errors_assumption()\n",
    "        print('-' * 120)\n",
    "        ols.multicollinearity_assumption()\n",
    "        print('-' * 120)\n",
    "        ols.autocorrelation_assumption()\n",
    "        print('-' * 120)\n",
    "        ols.homoskedasticity_assumption()\n",
    "        print('-' * 120)"
   ]
  },
  {
   "cell_type": "code",
   "execution_count": 20,
   "metadata": {},
   "outputs": [],
   "source": [
    "ols = OLS(X, Y)"
   ]
  },
  {
   "cell_type": "code",
   "execution_count": 21,
   "metadata": {},
   "outputs": [
    {
     "data": {
      "text/plain": [
       "array([64.34634847, 64.64744085, 69.52971826, 60.7330579 , 69.33613936,\n",
       "       67.40044148, 71.43315299, 69.78782345, 45.66689577, 68.08869164,\n",
       "       48.36609415, 69.09957329, 74.05710103, 49.93617336, 58.89414946,\n",
       "       35.22481482, 59.2812162 , 62.75473015, 39.91351334, 70.45453449,\n",
       "       37.07453834, 33.4074455 , 38.28972291, 22.01910025, 31.75130088,\n",
       "       44.74198849, 53.11922792, 47.0110419 , 27.3529707 , 29.32093173,\n",
       "       17.59923096, 20.00806099, 23.11595626, 17.27659947, 19.01871846,\n",
       "       26.04099668, 23.73968013, 15.69579622, 12.84600614, 21.11573208,\n",
       "       15.13659866, 18.09390222, 16.06141489, 37.51540734, 17.6960204 ])"
      ]
     },
     "execution_count": 21,
     "metadata": {},
     "output_type": "execute_result"
    }
   ],
   "source": [
    "ols.predict(X)"
   ]
  },
  {
   "cell_type": "code",
   "execution_count": 22,
   "metadata": {},
   "outputs": [
    {
     "name": "stdout",
     "output_type": "stream",
     "text": [
      "R^2: 0.70233459439661\n"
     ]
    }
   ],
   "source": [
    "ols.results()"
   ]
  },
  {
   "cell_type": "code",
   "execution_count": 23,
   "metadata": {},
   "outputs": [
    {
     "data": {
      "text/plain": [
       "10.426361025674463"
      ]
     },
     "execution_count": 23,
     "metadata": {},
     "output_type": "execute_result"
    }
   ],
   "source": [
    "ols.reg.intercept_"
   ]
  },
  {
   "cell_type": "code",
   "execution_count": 24,
   "metadata": {},
   "outputs": [
    {
     "data": {
      "text/plain": [
       "array([0.        , 0.03226315, 0.62372386])"
      ]
     },
     "execution_count": 24,
     "metadata": {},
     "output_type": "execute_result"
    }
   ],
   "source": [
    "ols.reg.coef_"
   ]
  },
  {
   "cell_type": "code",
   "execution_count": 25,
   "metadata": {},
   "outputs": [
    {
     "data": {
      "text/html": [
       "<table class=\"simpletable\">\n",
       "<caption>OLS Regression Results</caption>\n",
       "<tr>\n",
       "  <th>Dep. Variable:</th>         <td>income</td>      <th>  R-squared:         </th> <td>   0.702</td>\n",
       "</tr>\n",
       "<tr>\n",
       "  <th>Model:</th>                   <td>OLS</td>       <th>  Adj. R-squared:    </th> <td>   0.688</td>\n",
       "</tr>\n",
       "<tr>\n",
       "  <th>Method:</th>             <td>Least Squares</td>  <th>  F-statistic:       </th> <td>   49.55</td>\n",
       "</tr>\n",
       "<tr>\n",
       "  <th>Date:</th>             <td>Tue, 16 Mar 2021</td> <th>  Prob (F-statistic):</th> <td>8.88e-12</td>\n",
       "</tr>\n",
       "<tr>\n",
       "  <th>Time:</th>                 <td>14:48:44</td>     <th>  Log-Likelihood:    </th> <td> -179.90</td>\n",
       "</tr>\n",
       "<tr>\n",
       "  <th>No. Observations:</th>      <td>    45</td>      <th>  AIC:               </th> <td>   365.8</td>\n",
       "</tr>\n",
       "<tr>\n",
       "  <th>Df Residuals:</th>          <td>    42</td>      <th>  BIC:               </th> <td>   371.2</td>\n",
       "</tr>\n",
       "<tr>\n",
       "  <th>Df Model:</th>              <td>     2</td>      <th>                     </th>     <td> </td>   \n",
       "</tr>\n",
       "<tr>\n",
       "  <th>Covariance Type:</th>      <td>nonrobust</td>    <th>                     </th>     <td> </td>   \n",
       "</tr>\n",
       "</table>\n",
       "<table class=\"simpletable\">\n",
       "<tr>\n",
       "      <td></td>         <th>coef</th>     <th>std err</th>      <th>t</th>      <th>P>|t|</th>  <th>[0.025</th>    <th>0.975]</th>  \n",
       "</tr>\n",
       "<tr>\n",
       "  <th>const</th>     <td>   10.4264</td> <td>    4.164</td> <td>    2.504</td> <td> 0.016</td> <td>    2.024</td> <td>   18.829</td>\n",
       "</tr>\n",
       "<tr>\n",
       "  <th>education</th> <td>    0.0323</td> <td>    0.132</td> <td>    0.244</td> <td> 0.808</td> <td>   -0.234</td> <td>    0.299</td>\n",
       "</tr>\n",
       "<tr>\n",
       "  <th>prestige</th>  <td>    0.6237</td> <td>    0.125</td> <td>    5.003</td> <td> 0.000</td> <td>    0.372</td> <td>    0.875</td>\n",
       "</tr>\n",
       "</table>\n",
       "<table class=\"simpletable\">\n",
       "<tr>\n",
       "  <th>Omnibus:</th>       <td> 9.200</td> <th>  Durbin-Watson:     </th> <td>   2.053</td>\n",
       "</tr>\n",
       "<tr>\n",
       "  <th>Prob(Omnibus):</th> <td> 0.010</td> <th>  Jarque-Bera (JB):  </th> <td>  21.265</td>\n",
       "</tr>\n",
       "<tr>\n",
       "  <th>Skew:</th>          <td> 0.075</td> <th>  Prob(JB):          </th> <td>2.41e-05</td>\n",
       "</tr>\n",
       "<tr>\n",
       "  <th>Kurtosis:</th>      <td> 6.364</td> <th>  Cond. No.          </th> <td>    168.</td>\n",
       "</tr>\n",
       "</table><br/><br/>Notes:<br/>[1] Standard Errors assume that the covariance matrix of the errors is correctly specified."
      ],
      "text/plain": [
       "<class 'statsmodels.iolib.summary.Summary'>\n",
       "\"\"\"\n",
       "                            OLS Regression Results                            \n",
       "==============================================================================\n",
       "Dep. Variable:                 income   R-squared:                       0.702\n",
       "Model:                            OLS   Adj. R-squared:                  0.688\n",
       "Method:                 Least Squares   F-statistic:                     49.55\n",
       "Date:                Tue, 16 Mar 2021   Prob (F-statistic):           8.88e-12\n",
       "Time:                        14:48:44   Log-Likelihood:                -179.90\n",
       "No. Observations:                  45   AIC:                             365.8\n",
       "Df Residuals:                      42   BIC:                             371.2\n",
       "Df Model:                           2                                         \n",
       "Covariance Type:            nonrobust                                         \n",
       "==============================================================================\n",
       "                 coef    std err          t      P>|t|      [0.025      0.975]\n",
       "------------------------------------------------------------------------------\n",
       "const         10.4264      4.164      2.504      0.016       2.024      18.829\n",
       "education      0.0323      0.132      0.244      0.808      -0.234       0.299\n",
       "prestige       0.6237      0.125      5.003      0.000       0.372       0.875\n",
       "==============================================================================\n",
       "Omnibus:                        9.200   Durbin-Watson:                   2.053\n",
       "Prob(Omnibus):                  0.010   Jarque-Bera (JB):               21.265\n",
       "Skew:                           0.075   Prob(JB):                     2.41e-05\n",
       "Kurtosis:                       6.364   Cond. No.                         168.\n",
       "==============================================================================\n",
       "\n",
       "Notes:\n",
       "[1] Standard Errors assume that the covariance matrix of the errors is correctly specified.\n",
       "\"\"\""
      ]
     },
     "execution_count": 25,
     "metadata": {},
     "output_type": "execute_result"
    }
   ],
   "source": [
    "ols.summary"
   ]
  },
  {
   "cell_type": "code",
   "execution_count": 26,
   "metadata": {},
   "outputs": [
    {
     "name": "stdout",
     "output_type": "stream",
     "text": [
      "Assumption 1: Linear Relationship exists between the DV and the IV(s). \n",
      "\n",
      "Checking with a scatter plot of actual vs. predicted. Preditions should follow the diagonal line.\n"
     ]
    },
    {
     "data": {
      "image/png": "[encoded data removed]",
      "text/plain": [
       "<Figure size 504x504 with 1 Axes>"
      ]
     },
     "metadata": {
      "needs_background": "light"
     },
     "output_type": "display_data"
    }
   ],
   "source": [
    "ols.linear_assumption()"
   ]
  },
  {
   "cell_type": "code",
   "execution_count": 27,
   "metadata": {},
   "outputs": [
    {
     "name": "stdout",
     "output_type": "stream",
     "text": [
      "Assumption 2: The error terms are normally distributed. \n",
      "\n",
      "Using the Anderson-Darling test for normal distribution:\n",
      "p-value from the test - below 0.05 generally means non-normal: 0.0\n",
      "Residuals are not normally distributed.\n"
     ]
    },
    {
     "data": {
      "image/png": "[encoded data removed]",
      "text/plain": [
       "<Figure size 864x432 with 1 Axes>"
      ]
     },
     "metadata": {
      "needs_background": "light"
     },
     "output_type": "display_data"
    },
    {
     "name": "stdout",
     "output_type": "stream",
     "text": [
      "Assumption not satisfied.\n",
      "Confidence intervals will likely be affected.\n",
      "Try performing nonlinear transformations on variables.\n"
     ]
    }
   ],
   "source": [
    "ols.normal_errors_assumption()"
   ]
  },
  {
   "cell_type": "code",
   "execution_count": 28,
   "metadata": {},
   "outputs": [
    {
     "name": "stdout",
     "output_type": "stream",
     "text": [
      "Assumption 3: Little to no multicollinearity among predictors.\n"
     ]
    },
    {
     "data": {
      "image/png": "[encoded data removed]",
      "text/plain": [
       "<Figure size 720x576 with 2 Axes>"
      ]
     },
     "metadata": {
      "needs_background": "light"
     },
     "output_type": "display_data"
    },
    {
     "name": "stdout",
     "output_type": "stream",
     "text": [
      "Variance Inflation Factors (VIF):\n",
      ">10: An indication that multicollinearity may be present.\n",
      ">100: Certain multicollinearity among the variables.\n",
      "------------------------------------\n",
      "0: 4.189688241134578\n",
      "1: 3.646444237390078\n",
      "2: 3.646444237390078\n",
      "0 cases of possible multicollinearity.\n",
      "0 cases of definite multicollinearity.\n",
      "Assumption satisfied.\n"
     ]
    }
   ],
   "source": [
    "ols.multicollinearity_assumption()"
   ]
  },
  {
   "cell_type": "code",
   "execution_count": 29,
   "metadata": {},
   "outputs": [
    {
     "name": "stdout",
     "output_type": "stream",
     "text": [
      "Assumption 4: No Autocorrelation. \n",
      "\n",
      "\n",
      "Performing Durbin-Watson Test...\n",
      "Values of 1.5 < d < 2.5 generally show that there is no autocorrelation in the data.\n",
      "0 to 2 < is positive autocorrelation.\n",
      ">2 to 4 is negative autocorrelation.\n",
      "---------------------------------------\n",
      "Durbin-Watson: 2.0532181424888614\n",
      "Little to no autocorrelation. \n",
      "\n",
      "Assumption satisfied.\n"
     ]
    }
   ],
   "source": [
    "ols.autocorrelation_assumption()"
   ]
  },
  {
   "cell_type": "code",
   "execution_count": 30,
   "metadata": {},
   "outputs": [
    {
     "name": "stdout",
     "output_type": "stream",
     "text": [
      "Assumption 5: Homoskedasticity of Error Terms. \n",
      "\n",
      "Residuals should have relative constant variance.\n"
     ]
    },
    {
     "data": {
      "image/png": "[encoded data removed]",
      "text/plain": [
       "<Figure size 864x432 with 1 Axes>"
      ]
     },
     "metadata": {
      "needs_background": "light"
     },
     "output_type": "display_data"
    },
    {
     "name": "stdout",
     "output_type": "stream",
     "text": [
      "[('Lagrange multiplier statistic', 1.167632193852599), ('p-value', 0.5577658117356377), ('f-value', 0.5594102554383498), ('f p-value', 0.5757457970369206)] \n",
      "\n",
      "0.5577658117356377\n",
      "Because the p-value is not less than 0.05, we fail to reject the null hypothesis.\n",
      "\n",
      "We do not have sufficient evidence to say that heteroskedasticity is present in the regression model.\n"
     ]
    }
   ],
   "source": [
    "ols.homoskedasticity_assumption()"
   ]
  },
  {
   "cell_type": "code",
   "execution_count": null,
   "metadata": {},
   "outputs": [],
   "source": []
  }
 ],
 "metadata": {
  "kernelspec": {
   "display_name": "Python 3",
   "language": "python",
   "name": "python3"
  },
  "language_info": {
   "codemirror_mode": {
    "name": "ipython",
    "version": 3
   },
   "file_extension": ".py",
   "mimetype": "text/x-python",
   "name": "python",
   "nbconvert_exporter": "python",
   "pygments_lexer": "ipython3",
   "version": "3.8.5"
  }
 },
 "nbformat": 4,
 "nbformat_minor": 2
}
