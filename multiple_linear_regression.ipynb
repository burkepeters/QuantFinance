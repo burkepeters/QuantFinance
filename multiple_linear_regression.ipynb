{
 "cells": [
  {
   "cell_type": "code",
   "execution_count": 1,
   "metadata": {},
   "outputs": [],
   "source": [
    "import numpy as np\n",
    "import pandas as pd\n",
    "from sklearn.linear_model import LinearRegression\n",
    "import seaborn as sns\n",
    "import matplotlib.pyplot as plt\n",
    "import statsmodels.formula.api as smf\n",
    "from statsmodels.stats.diagnostic import normal_ad\n",
    "from statsmodels.stats.outliers_influence import variance_inflation_factor\n",
    "from statsmodels.stats.stattools import durbin_watson\n",
    "from statsmodels.stats.diagnostic import het_breuschpagan\n",
    "from statsmodels.stats.diagnostic import het_white\n",
    "from statsmodels.compat import lzip\n",
    "import statsmodels.api as sm"
   ]
  },
  {
   "cell_type": "markdown",
   "metadata": {},
   "source": [
    "The \"Duncan\" data from statsmodels has 45 rows and 4 columns and contains data on the 'prestige' and other characteristics of some U.S. occupations in the year 1950:"
   ]
  },
  {
   "cell_type": "code",
   "execution_count": 2,
   "metadata": {},
   "outputs": [],
   "source": [
    "duncan_prestige = sm.datasets.get_rdataset(\"Duncan\", \"carData\")\n",
    "Y = duncan_prestige.data['income']\n",
    "X = duncan_prestige.data['education']\n",
    "X = sm.add_constant(X)"
   ]
  },
  {
   "cell_type": "code",
   "execution_count": 3,
   "metadata": {},
   "outputs": [
    {
     "data": {
      "text/html": [
       "<div>\n",
       "<style scoped>\n",
       "    .dataframe tbody tr th:only-of-type {\n",
       "        vertical-align: middle;\n",
       "    }\n",
       "\n",
       "    .dataframe tbody tr th {\n",
       "        vertical-align: top;\n",
       "    }\n",
       "\n",
       "    .dataframe thead th {\n",
       "        text-align: right;\n",
       "    }\n",
       "</style>\n",
       "<table border=\"1\" class=\"dataframe\">\n",
       "  <thead>\n",
       "    <tr style=\"text-align: right;\">\n",
       "      <th></th>\n",
       "      <th>type</th>\n",
       "      <th>income</th>\n",
       "      <th>education</th>\n",
       "      <th>prestige</th>\n",
       "    </tr>\n",
       "  </thead>\n",
       "  <tbody>\n",
       "    <tr>\n",
       "      <th>accountant</th>\n",
       "      <td>prof</td>\n",
       "      <td>62</td>\n",
       "      <td>86</td>\n",
       "      <td>82</td>\n",
       "    </tr>\n",
       "    <tr>\n",
       "      <th>pilot</th>\n",
       "      <td>prof</td>\n",
       "      <td>72</td>\n",
       "      <td>76</td>\n",
       "      <td>83</td>\n",
       "    </tr>\n",
       "    <tr>\n",
       "      <th>architect</th>\n",
       "      <td>prof</td>\n",
       "      <td>75</td>\n",
       "      <td>92</td>\n",
       "      <td>90</td>\n",
       "    </tr>\n",
       "    <tr>\n",
       "      <th>author</th>\n",
       "      <td>prof</td>\n",
       "      <td>55</td>\n",
       "      <td>90</td>\n",
       "      <td>76</td>\n",
       "    </tr>\n",
       "    <tr>\n",
       "      <th>chemist</th>\n",
       "      <td>prof</td>\n",
       "      <td>64</td>\n",
       "      <td>86</td>\n",
       "      <td>90</td>\n",
       "    </tr>\n",
       "  </tbody>\n",
       "</table>\n",
       "</div>"
      ],
      "text/plain": [
       "            type  income  education  prestige\n",
       "accountant  prof      62         86        82\n",
       "pilot       prof      72         76        83\n",
       "architect   prof      75         92        90\n",
       "author      prof      55         90        76\n",
       "chemist     prof      64         86        90"
      ]
     },
     "execution_count": 3,
     "metadata": {},
     "output_type": "execute_result"
    }
   ],
   "source": [
    "duncan_prestige.data.head()"
   ]
  },
  {
   "cell_type": "code",
   "execution_count": 4,
   "metadata": {},
   "outputs": [],
   "source": [
    "class OLS():\n",
    "    def __init__(self, X, y):\n",
    "        self.X = X\n",
    "        self.y = y\n",
    "        self.reg = LinearRegression().fit(self.X, self.y)\n",
    "        # self.reg = sm.OLS(self.y, self.X)\n",
    "        self.summary = sm.OLS(self.y, self.X).fit().summary()\n",
    "        predictions = self.reg.predict(self.X)\n",
    "        # predictions = self.reg.fit()\n",
    "        self.df_results = pd.DataFrame({'Actual': self.y, 'Predicted': predictions})\n",
    "        self.df_results['Residuals'] = abs(self.df_results['Actual']) - abs(self.df_results['Predicted'])\n",
    "        \n",
    "    def predict(self, X):\n",
    "        return self.reg.predict(X)\n",
    "    \n",
    "    def results(self):\n",
    "        print('R^2: {0}'.format(self.reg.score(self.X, self.y)))\n",
    "    \n",
    "    def linear_assumption(self):\n",
    "        df_results = self.df_results\n",
    "        print(\"Assumption 1: Linear Relationship exists between the DV and the IV(s).\", '\\n')\n",
    "        print(\"Checking with a scatter plot of actual vs. predicted.\",\n",
    "             'Preditions should follow the diagonal line.')\n",
    "        \n",
    "        sns.lmplot(x='Actual', y='Predicted', data=df_results, fit_reg=False, height=7)\n",
    "        \n",
    "        line_coords = np.arange(df_results.min().min(), df_results.max().max())\n",
    "        plt.plot(line_coords, line_coords,\n",
    "                color='darkorange', linestyle='--')\n",
    "        plt.title('Actual vs. Predicted')\n",
    "        plt.show()\n",
    "        \n",
    "    def normal_errors_assumption(self):\n",
    "        print(\"Assumption 2: The error terms are normally distributed.\", '\\n')\n",
    "        \n",
    "        print('Using the Anderson-Darling test for normal distribution:')\n",
    "        \n",
    "        p_value = normal_ad(self.df_results['Residuals'])[1]\n",
    "        print('p-value from the test - below 0.05 generally means non-normal:', round(p_value, 2))\n",
    "        \n",
    "        if round(p_value, 2) < 0.05:\n",
    "            print('Residuals are not normally distributed.')\n",
    "        else:\n",
    "            print('Residuals are normally distributed.')\n",
    "            \n",
    "        plt.subplots(figsize=(12, 6))\n",
    "        plt.title('Distribution of Residuals')\n",
    "        sns.histplot(self.df_results['Residuals'])\n",
    "        plt.show()\n",
    "        \n",
    "        if p_value > 0.05:\n",
    "            print('Assumption satisfied.')\n",
    "        else:\n",
    "            print('Assumption not satisfied.')\n",
    "            print('Confidence intervals will likely be affected.')\n",
    "            print('Try performing nonlinear transformations on variables.')\n",
    "            \n",
    "    def multicollinearity_assumption(self, feature_names=None):\n",
    "        print(\"Assumption 3: Little to no multicollinearity among predictors.\")\n",
    "        \n",
    "        plt.figure(figsize=(10, 8))\n",
    "        sns.heatmap(pd.DataFrame(self.X, columns=feature_names).corr(), annot=True)\n",
    "        plt.title('Correlation of Variables')\n",
    "        plt.show()\n",
    "        \n",
    "        print('Variance Inflation Factors (VIF):')\n",
    "        print('>10: An indication that multicollinearity may be present.')\n",
    "        print('>100: Certain multicollinearity among the variables.')\n",
    "        print('------------------------------------')\n",
    "        \n",
    "        VIF = [variance_inflation_factor(self.X.values, i) for i in range(len(self.X.columns))]\n",
    "        for idx, vif in enumerate(VIF):\n",
    "            print('{0}: {1}'.format(idx, vif))\n",
    "            \n",
    "        possible_multicollinearity = sum([1 for vif in VIF if vif > 10])\n",
    "        definite_multicollinearity = sum([1 for vif in VIF if vif > 100])\n",
    "        \n",
    "        print('{0} cases of possible multicollinearity.'.format(possible_multicollinearity))\n",
    "        print('{0} cases of definite multicollinearity.'.format(definite_multicollinearity))\n",
    "        \n",
    "        if definite_multicollinearity == 0:\n",
    "            if possible_multicollinearity == 0:\n",
    "                print('Assumption satisfied.')\n",
    "            else:\n",
    "                print(\"Assumption possibly satisfied.\")\n",
    "                print('Coefficient interpretability may be problematic.')\n",
    "                print('Consider removing variables with a high Variance Inflation Factor (VIF).')\n",
    "                \n",
    "        else:\n",
    "            print('Assumption not satisfied.')\n",
    "            print('Coefficient interpretability will be problematic.')\n",
    "            print('Consider removing variables with a high Variance Inflation Factor (VIF).')\n",
    "            \n",
    "    def autocorrelation_assumption(self):\n",
    "        print('Assumption 4: No Autocorrelation.', '\\n')\n",
    "        \n",
    "        print('\\nPerforming Durbin-Watson Test...')\n",
    "        print('Values of 1.5 < d < 2.5 generally show that there is no autocorrelation in the data.')\n",
    "        print('0 to 2 < is positive autocorrelation.')\n",
    "        print('>2 to 4 is negative autocorrelation.')\n",
    "        print('---------------------------------------')\n",
    "        \n",
    "        durbinWatson = durbin_watson(self.df_results['Residuals'])\n",
    "        \n",
    "        print('Durbin-Watson:', durbinWatson)\n",
    "        \n",
    "        if durbinWatson < 1.5:\n",
    "            print('Signs of positive autocorrelation.', '\\n')\n",
    "            print('Assumption not satisfied.')\n",
    "        elif durbinWatson > 2.5:\n",
    "            print('Signs of negative autocorrelation.', '\\n')\n",
    "            print('Assumption not satisfied.')\n",
    "        else:\n",
    "            print('Little to no autocorrelation.', '\\n')\n",
    "            print('Assumption satisfied.')\n",
    "            \n",
    "    def homoskedasticity_assumption(self):\n",
    "        print('Assumption 5: Homoskedasticity of Error Terms.', '\\n')\n",
    "        print('Residuals should have relative constant variance.')\n",
    "        \n",
    "        plt.subplots(figsize=(12, 6))\n",
    "        ax = plt.subplot(111)\n",
    "        plt.scatter(x=self.df_results.index, y=self.df_results.Residuals, alpha=0.5)\n",
    "        plt.plot(np.repeat(0, int(len(self.df_results))), color='darkorange', linestyle='--')\n",
    "        ax.spines['right'].set_visible(False)\n",
    "        ax.spines['top'].set_visible(False)\n",
    "        plt.title('Residuals')\n",
    "        plt.show()\n",
    "        \n",
    "        names = ['Lagrange multiplier statistic', 'p-value',\n",
    "                'f-value', 'f p-value']\n",
    "        \n",
    "        test = het_breuschpagan(self.df_results['Residuals'], self.X)\n",
    "        \n",
    "        results = lzip(names, test)\n",
    "        \n",
    "        print(results, '\\n')\n",
    "        print(results[1][1])\n",
    "        \n",
    "        if results[1][1] >= 0.05:\n",
    "            print(\"Because the p-value is not less than 0.05, we fail to reject the null hypothesis.\\n\")\n",
    "            print(\n",
    "                \"We do not have sufficient evidence to say that heteroskedasticity is present in the regression model.\"\n",
    "            )\n",
    "            \n",
    "        else:\n",
    "            print(\"Because the p-value is less than 0.05, we reject the null hypothesis in favor of\\n\")\n",
    "            print(\"the alternative hypothesis.\\n\")\n",
    "            print(\"We have sufficient evidence to say that heteroskedasticity is present in the regression model.\")\n",
    "            print(\"\\nWe should try transforming the DV by taking it's log instead or find a new definition of\")\n",
    "            print(\"the dependent variable. One way to do this would be to take the rate instead of the raw value.\")\n",
    "            \n",
    "    def all_assumptions(self):\n",
    "        self.linear_assumption()\n",
    "        print('-' * 120)\n",
    "        ols.normal_errors_assumption()\n",
    "        print('-' * 120)\n",
    "        ols.multicollinearity_assumption()\n",
    "        print('-' * 120)\n",
    "        ols.autocorrelation_assumption()\n",
    "        print('-' * 120)\n",
    "        ols.homoskedasticity_assumption()\n",
    "        print('-' * 120)"
   ]
  },
  {
   "cell_type": "code",
   "execution_count": 5,
   "metadata": {},
   "outputs": [],
   "source": [
    "ols = OLS(X, Y)"
   ]
  },
  {
   "cell_type": "code",
   "execution_count": 6,
   "metadata": {},
   "outputs": [
    {
     "data": {
      "text/plain": [
       "array([61.76141016, 55.81281576, 65.3305668 , 64.14084792, 61.76141016,\n",
       "       60.57169128, 65.92542624, 70.08944232, 62.3562696 , 61.76141016,\n",
       "       54.62309688, 68.89972344, 68.304864  , 60.57169128, 64.73570736,\n",
       "       30.82871928, 37.37217312, 43.91562696, 36.77731368, 59.3819724 ,\n",
       "       53.433378  , 43.32076752, 52.83851856, 40.34647032, 24.28526544,\n",
       "       33.80301648, 27.25956264, 29.6390004 , 23.690406  , 25.47498432,\n",
       "       27.85442208, 14.7675144 , 26.06984376, 21.90582768, 19.52638992,\n",
       "       22.50068712, 26.06984376, 27.25956264, 20.7161088 , 23.690406  ,\n",
       "       28.44928152, 25.47498432, 22.50068712, 38.561892  , 29.6390004 ])"
      ]
     },
     "execution_count": 6,
     "metadata": {},
     "output_type": "execute_result"
    }
   ],
   "source": [
    "ols.predict(X)"
   ]
  },
  {
   "cell_type": "code",
   "execution_count": 7,
   "metadata": {},
   "outputs": [
    {
     "name": "stdout",
     "output_type": "stream",
     "text": [
      "R^2: 0.5249181546907555\n"
     ]
    }
   ],
   "source": [
    "ols.results()"
   ]
  },
  {
   "cell_type": "code",
   "execution_count": 8,
   "metadata": {},
   "outputs": [
    {
     "data": {
      "text/plain": [
       "10.603498317842252"
      ]
     },
     "execution_count": 8,
     "metadata": {},
     "output_type": "execute_result"
    }
   ],
   "source": [
    "ols.reg.intercept_"
   ]
  },
  {
   "cell_type": "code",
   "execution_count": 9,
   "metadata": {},
   "outputs": [
    {
     "data": {
      "text/plain": [
       "array([0.        , 0.59485944])"
      ]
     },
     "execution_count": 9,
     "metadata": {},
     "output_type": "execute_result"
    }
   ],
   "source": [
    "ols.reg.coef_"
   ]
  },
  {
   "cell_type": "code",
   "execution_count": 10,
   "metadata": {},
   "outputs": [
    {
     "data": {
      "text/html": [
       "<table class=\"simpletable\">\n",
       "<caption>OLS Regression Results</caption>\n",
       "<tr>\n",
       "  <th>Dep. Variable:</th>         <td>income</td>      <th>  R-squared:         </th> <td>   0.525</td>\n",
       "</tr>\n",
       "<tr>\n",
       "  <th>Model:</th>                   <td>OLS</td>       <th>  Adj. R-squared:    </th> <td>   0.514</td>\n",
       "</tr>\n",
       "<tr>\n",
       "  <th>Method:</th>             <td>Least Squares</td>  <th>  F-statistic:       </th> <td>   47.51</td>\n",
       "</tr>\n",
       "<tr>\n",
       "  <th>Date:</th>             <td>Tue, 16 Mar 2021</td> <th>  Prob (F-statistic):</th> <td>1.84e-08</td>\n",
       "</tr>\n",
       "<tr>\n",
       "  <th>Time:</th>                 <td>14:37:43</td>     <th>  Log-Likelihood:    </th> <td> -190.42</td>\n",
       "</tr>\n",
       "<tr>\n",
       "  <th>No. Observations:</th>      <td>    45</td>      <th>  AIC:               </th> <td>   384.8</td>\n",
       "</tr>\n",
       "<tr>\n",
       "  <th>Df Residuals:</th>          <td>    43</td>      <th>  BIC:               </th> <td>   388.5</td>\n",
       "</tr>\n",
       "<tr>\n",
       "  <th>Df Model:</th>              <td>     1</td>      <th>                     </th>     <td> </td>   \n",
       "</tr>\n",
       "<tr>\n",
       "  <th>Covariance Type:</th>      <td>nonrobust</td>    <th>                     </th>     <td> </td>   \n",
       "</tr>\n",
       "</table>\n",
       "<table class=\"simpletable\">\n",
       "<tr>\n",
       "      <td></td>         <th>coef</th>     <th>std err</th>      <th>t</th>      <th>P>|t|</th>  <th>[0.025</th>    <th>0.975]</th>  \n",
       "</tr>\n",
       "<tr>\n",
       "  <th>const</th>     <td>   10.6035</td> <td>    5.198</td> <td>    2.040</td> <td> 0.048</td> <td>    0.120</td> <td>   21.087</td>\n",
       "</tr>\n",
       "<tr>\n",
       "  <th>education</th> <td>    0.5949</td> <td>    0.086</td> <td>    6.893</td> <td> 0.000</td> <td>    0.421</td> <td>    0.769</td>\n",
       "</tr>\n",
       "</table>\n",
       "<table class=\"simpletable\">\n",
       "<tr>\n",
       "  <th>Omnibus:</th>       <td> 9.841</td> <th>  Durbin-Watson:     </th> <td>   1.736</td>\n",
       "</tr>\n",
       "<tr>\n",
       "  <th>Prob(Omnibus):</th> <td> 0.007</td> <th>  Jarque-Bera (JB):  </th> <td>  10.609</td>\n",
       "</tr>\n",
       "<tr>\n",
       "  <th>Skew:</th>          <td> 0.776</td> <th>  Prob(JB):          </th> <td> 0.00497</td>\n",
       "</tr>\n",
       "<tr>\n",
       "  <th>Kurtosis:</th>      <td> 4.802</td> <th>  Cond. No.          </th> <td>    123.</td>\n",
       "</tr>\n",
       "</table><br/><br/>Notes:<br/>[1] Standard Errors assume that the covariance matrix of the errors is correctly specified."
      ],
      "text/plain": [
       "<class 'statsmodels.iolib.summary.Summary'>\n",
       "\"\"\"\n",
       "                            OLS Regression Results                            \n",
       "==============================================================================\n",
       "Dep. Variable:                 income   R-squared:                       0.525\n",
       "Model:                            OLS   Adj. R-squared:                  0.514\n",
       "Method:                 Least Squares   F-statistic:                     47.51\n",
       "Date:                Tue, 16 Mar 2021   Prob (F-statistic):           1.84e-08\n",
       "Time:                        14:37:43   Log-Likelihood:                -190.42\n",
       "No. Observations:                  45   AIC:                             384.8\n",
       "Df Residuals:                      43   BIC:                             388.5\n",
       "Df Model:                           1                                         \n",
       "Covariance Type:            nonrobust                                         \n",
       "==============================================================================\n",
       "                 coef    std err          t      P>|t|      [0.025      0.975]\n",
       "------------------------------------------------------------------------------\n",
       "const         10.6035      5.198      2.040      0.048       0.120      21.087\n",
       "education      0.5949      0.086      6.893      0.000       0.421       0.769\n",
       "==============================================================================\n",
       "Omnibus:                        9.841   Durbin-Watson:                   1.736\n",
       "Prob(Omnibus):                  0.007   Jarque-Bera (JB):               10.609\n",
       "Skew:                           0.776   Prob(JB):                      0.00497\n",
       "Kurtosis:                       4.802   Cond. No.                         123.\n",
       "==============================================================================\n",
       "\n",
       "Notes:\n",
       "[1] Standard Errors assume that the covariance matrix of the errors is correctly specified.\n",
       "\"\"\""
      ]
     },
     "execution_count": 10,
     "metadata": {},
     "output_type": "execute_result"
    }
   ],
   "source": [
    "ols.summary"
   ]
  },
  {
   "cell_type": "code",
   "execution_count": 11,
   "metadata": {},
   "outputs": [
    {
     "name": "stdout",
     "output_type": "stream",
     "text": [
      "Assumption 1: Linear Relationship exists between the DV and the IV(s). \n",
      "\n",
      "Checking with a scatter plot of actual vs. predicted. Preditions should follow the diagonal line.\n"
     ]
    },
    {
     "data": {
      "image/png": "[encoded data removed]",
      "text/plain": [
       "<Figure size 504x504 with 1 Axes>"
      ]
     },
     "metadata": {
      "needs_background": "light"
     },
     "output_type": "display_data"
    }
   ],
   "source": [
    "ols.linear_assumption()"
   ]
  },
  {
   "cell_type": "code",
   "execution_count": 12,
   "metadata": {},
   "outputs": [
    {
     "name": "stdout",
     "output_type": "stream",
     "text": [
      "Assumption 2: The error terms are normally distributed. \n",
      "\n",
      "Using the Anderson-Darling test for normal distribution:\n",
      "p-value from the test - below 0.05 generally means non-normal: 0.1\n",
      "Residuals are normally distributed.\n"
     ]
    },
    {
     "data": {
      "image/png": "[encoded data removed]",
      "text/plain": [
       "<Figure size 864x432 with 1 Axes>"
      ]
     },
     "metadata": {
      "needs_background": "light"
     },
     "output_type": "display_data"
    },
    {
     "name": "stdout",
     "output_type": "stream",
     "text": [
      "Assumption satisfied.\n"
     ]
    }
   ],
   "source": [
    "ols.normal_errors_assumption()"
   ]
  },
  {
   "cell_type": "code",
   "execution_count": 13,
   "metadata": {},
   "outputs": [
    {
     "name": "stdout",
     "output_type": "stream",
     "text": [
      "Assumption 3: Little to no multicollinearity among predictors.\n"
     ]
    },
    {
     "data": {
      "image/png": "[encoded data removed]",
      "text/plain": [
       "<Figure size 720x576 with 2 Axes>"
      ]
     },
     "metadata": {
      "needs_background": "light"
     },
     "output_type": "display_data"
    },
    {
     "name": "stdout",
     "output_type": "stream",
     "text": [
      "Variance Inflation Factors (VIF):\n",
      ">10: An indication that multicollinearity may be present.\n",
      ">100: Certain multicollinearity among the variables.\n",
      "------------------------------------\n",
      "0: 4.189385299652164\n",
      "1: 1.0\n",
      "0 cases of possible multicollinearity.\n",
      "0 cases of definite multicollinearity.\n",
      "Assumption satisfied.\n"
     ]
    }
   ],
   "source": [
    "ols.multicollinearity_assumption()"
   ]
  },
  {
   "cell_type": "code",
   "execution_count": 14,
   "metadata": {},
   "outputs": [
    {
     "name": "stdout",
     "output_type": "stream",
     "text": [
      "Assumption 4: No Autocorrelation. \n",
      "\n",
      "\n",
      "Performing Durbin-Watson Test...\n",
      "Values of 1.5 < d < 2.5 generally show that there is no autocorrelation in the data.\n",
      "0 to 2 < is positive autocorrelation.\n",
      ">2 to 4 is negative autocorrelation.\n",
      "---------------------------------------\n",
      "Durbin-Watson: 1.7360753650594405\n",
      "Little to no autocorrelation. \n",
      "\n",
      "Assumption satisfied.\n"
     ]
    }
   ],
   "source": [
    "ols.autocorrelation_assumption()"
   ]
  },
  {
   "cell_type": "code",
   "execution_count": 15,
   "metadata": {},
   "outputs": [
    {
     "name": "stdout",
     "output_type": "stream",
     "text": [
      "Assumption 5: Homoskedasticity of Error Terms. \n",
      "\n",
      "Residuals should have relative constant variance.\n"
     ]
    },
    {
     "data": {
      "image/png": "[encoded data removed]",
      "text/plain": [
       "<Figure size 864x432 with 1 Axes>"
      ]
     },
     "metadata": {
      "needs_background": "light"
     },
     "output_type": "display_data"
    },
    {
     "name": "stdout",
     "output_type": "stream",
     "text": [
      "[('Lagrange multiplier statistic', 0.2864856558843232), ('p-value', 0.5924814566555369), ('f-value', 0.27550693305427887), ('f p-value', 0.6023572731912881)] \n",
      "\n",
      "0.5924814566555369\n",
      "Because the p-value is not less than 0.05, we fail to reject the null hypothesis.\n",
      "\n",
      "We do not have sufficient evidence to say that heteroskedasticity is present in the regression model.\n"
     ]
    }
   ],
   "source": [
    "ols.homoskedasticity_assumption()"
   ]
  }
 ],
 "metadata": {
  "kernelspec": {
   "display_name": "Python 3",
   "language": "python",
   "name": "python3"
  },
  "language_info": {
   "codemirror_mode": {
    "name": "ipython",
    "version": 3
   },
   "file_extension": ".py",
   "mimetype": "text/x-python",
   "name": "python",
   "nbconvert_exporter": "python",
   "pygments_lexer": "ipython3",
   "version": "3.8.5"
  }
 },
 "nbformat": 4,
 "nbformat_minor": 2
}
