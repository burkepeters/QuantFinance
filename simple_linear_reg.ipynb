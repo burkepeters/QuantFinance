{
 "cells": [
  {
   "cell_type": "code",
   "execution_count": 1,
   "metadata": {},
   "outputs": [],
   "source": [
    "import numpy as np"
   ]
  },
  {
   "cell_type": "code",
   "execution_count": 2,
   "metadata": {},
   "outputs": [],
   "source": [
    "x = [6, 8, 10, 14, 18]\n",
    "y = [7, 9, 13, 17.5, 18]"
   ]
  },
  {
   "cell_type": "code",
   "execution_count": 3,
   "metadata": {},
   "outputs": [],
   "source": [
    "class SLR():\n",
    "    def __init__(self, x, y):\n",
    "        self.x = x\n",
    "        self.y = y\n",
    "        self.n = len(x)\n",
    "        self.sum_x = np.sum(x)\n",
    "        self.sum_y = np.sum(y)\n",
    "        self.sum_xy = np.sum(np.multiply(x, y))\n",
    "        self.sum_xx = np.sum(np.multiply(x, x))\n",
    "        self.sum_yy = np.sum(np.multiply(y, y))\n",
    "        self.int = (\n",
    "            (self.sum_y*self.sum_xx) - (self.sum_x*self.sum_xy)) / ((self.n*self.sum_xx) - (self.sum_x*self.sum_x)\n",
    "                                                                   )\n",
    "        self.b = (\n",
    "            (self.n*self.sum_xy) - (self.sum_x*self.sum_y)) / ((self.n*self.sum_xx) - (self.sum_x*self.sum_x)\n",
    "                                                              )\n",
    "        \n",
    "    def predict(self, x):\n",
    "        return (self.int + (self.b*x))"
   ]
  },
  {
   "cell_type": "code",
   "execution_count": 4,
   "metadata": {},
   "outputs": [],
   "source": [
    "slr = SLR(x, y)"
   ]
  },
  {
   "cell_type": "code",
   "execution_count": 5,
   "metadata": {},
   "outputs": [
    {
     "data": {
      "text/plain": [
       "13.681034482758621"
      ]
     },
     "execution_count": 5,
     "metadata": {},
     "output_type": "execute_result"
    }
   ],
   "source": [
    "slr.predict(12)"
   ]
  }
 ],
 "metadata": {
  "kernelspec": {
   "display_name": "Python 3",
   "language": "python",
   "name": "python3"
  },
  "language_info": {
   "codemirror_mode": {
    "name": "ipython",
    "version": 3
   },
   "file_extension": ".py",
   "mimetype": "text/x-python",
   "name": "python",
   "nbconvert_exporter": "python",
   "pygments_lexer": "ipython3",
   "version": "3.7.3"
  }
 },
 "nbformat": 4,
 "nbformat_minor": 2
}
