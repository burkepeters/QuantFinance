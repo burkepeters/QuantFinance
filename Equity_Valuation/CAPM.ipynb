{
 "cells": [
  {
   "cell_type": "markdown",
   "metadata": {},
   "source": [
    "The Capital Asset Pricing Model is a financial theory which claims a linear relationship between required return on investment and risk. \n",
    "\n",
    "$$E(r_{i}) = r_{f} + \\beta * (E(r_{m}) - r_{f})$$\n",
    "\n",
    "It is easy to use but has some drawbacks."
   ]
  },
  {
   "cell_type": "code",
   "execution_count": 1,
   "metadata": {},
   "outputs": [],
   "source": [
    "def r(r_f, beta, e_mr):\n",
    "    r = r_f + (beta)*(e_mr - r_f)\n",
    "    return r"
   ]
  },
  {
   "cell_type": "code",
   "execution_count": 2,
   "metadata": {},
   "outputs": [],
   "source": [
    "r_f = 0.04 # Risk Free Rate\n",
    "beta = 1.5 # Stock Beta or sensitivity to the overall market.\n",
    "e_mr = 0.09 # Expected Market Return"
   ]
  },
  {
   "cell_type": "code",
   "execution_count": 3,
   "metadata": {},
   "outputs": [
    {
     "data": {
      "text/plain": [
       "0.11499999999999999"
      ]
     },
     "execution_count": 3,
     "metadata": {},
     "output_type": "execute_result"
    }
   ],
   "source": [
    "r(r_f, beta, e_mr)"
   ]
  }
 ],
 "metadata": {
  "kernelspec": {
   "display_name": "Python 3",
   "language": "python",
   "name": "python3"
  },
  "language_info": {
   "codemirror_mode": {
    "name": "ipython",
    "version": 3
   },
   "file_extension": ".py",
   "mimetype": "text/x-python",
   "name": "python",
   "nbconvert_exporter": "python",
   "pygments_lexer": "ipython3",
   "version": "3.7.7"
  }
 },
 "nbformat": 4,
 "nbformat_minor": 4
}
