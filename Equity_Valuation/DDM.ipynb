{
 "cells": [
  {
   "cell_type": "markdown",
   "metadata": {},
   "source": [
    "DIVIDEND DISCOUNT MODEL\n",
    "\n",
    "For an indefinite holding period, the value of a companies equity simply becomes the present value of an infinite stream of dividends, represented by John Burr William's (1938) original DDM formula:\n",
    "\n",
    "$$V_{0} = \\sum\\limits_{t = 1}^{\\infty} \\frac{D_{t}}{(1 + r)^{t}}$$\n",
    "\n",
    "We will implement the Gordon Growth Model: \n",
    "\n",
    "$$V_{0} = \\frac{D_{1}}{r-g}$$\n",
    "\n",
    "Where:\n",
    "\n",
    "D_1 = The one period look forward dividend. \n",
    "r = The required rate of return on equity.\n",
    "g = The growth rate."
   ]
  },
  {
   "cell_type": "code",
   "execution_count": 1,
   "metadata": {},
   "outputs": [],
   "source": [
    "def ggm(D_1, r, g):\n",
    "    V_0 = D_1/(r-g)\n",
    "    return V_0"
   ]
  },
  {
   "cell_type": "markdown",
   "metadata": {},
   "source": [
    "Because the generalized DDM formula involves infinities, we will utilize multi-period models that allow us to price in a Terminal Value and define different periods of growth:\n",
    "\n",
    "$$V_{0} = \\frac{D_{1}}{(1 + r)^{1}} + \\frac{D_{2}}{(1 + r)^{2}} + ... + \\frac{D_{n} + P_{n}}{(1 + r)^{n}}$$\n",
    "\n",
    "We will construct our function in Python and test it in two different scenarios: \n",
    "\n",
    "(1) No Div Scenario\n",
    "\n",
    "r = 12%, \n",
    "EPS_0 = 1.50, \n",
    "4 year growth at 15%, \n",
    "Beginning in year 5 we get a Div of 20% EPS at a growth rate of 5%.\n",
    "\n",
    "(2) Two Stage Scenario\n",
    "\n",
    "D_0 = 1.00, \n",
    "3 year growth at 10%, \n",
    "r = 12%, \n",
    "perpetual growth at 4%."
   ]
  },
  {
   "cell_type": "code",
   "execution_count": 2,
   "metadata": {},
   "outputs": [
    {
     "data": {
      "text/plain": [
       "5.0"
      ]
     },
     "execution_count": 2,
     "metadata": {},
     "output_type": "execute_result"
    }
   ],
   "source": [
    "# (1) No Div Scenario\n",
    "\n",
    "EPS_0 = 1.50\n",
    "r = 0.12\n",
    "\n",
    "EPS_4 = EPS_0*(1.15**4)\n",
    "\n",
    "EPS_5 = EPS_4*1.05\n",
    "\n",
    "D_5 = EPS_5*0.20\n",
    "\n",
    "V_4 = D_5/(r-0.05)\n",
    "\n",
    "V_0 = V_4/((1+r)**4)\n",
    "\n",
    "round(V_0, 2)"
   ]
  },
  {
   "cell_type": "code",
   "execution_count": 3,
   "metadata": {},
   "outputs": [
    {
     "data": {
      "text/plain": [
       "15.210060586734695"
      ]
     },
     "execution_count": 3,
     "metadata": {},
     "output_type": "execute_result"
    }
   ],
   "source": [
    "# (2) Two-Stage DDM\n",
    "\n",
    "import numpy_financial as npf\n",
    "\n",
    "D_0 = 1.00\n",
    "r = 0.12\n",
    "\n",
    "cf0 = 0\n",
    "cf1 = D_0*1.10\n",
    "cf2 = cf1*1.10\n",
    "cf3 = cf2*1.10\n",
    "\n",
    "v_3 = (cf3*1.04)/(r-0.04)\n",
    "\n",
    "cf3 = cf3+v_3\n",
    "\n",
    "V = npf.npv(r, [cf0, cf1, cf2, cf3])\n",
    "\n",
    "V"
   ]
  },
  {
   "cell_type": "markdown",
   "metadata": {},
   "source": [
    "While the approach is different depending on how you are calculating dividends, once dividends are calculated and their growth characteristics are decided, things are quite similar. \n",
    "\n",
    "Additionally, we have assumed the required rate of return and the growth rates and should calculate them as well in another notebook."
   ]
  }
 ],
 "metadata": {
  "kernelspec": {
   "display_name": "Python 3",
   "language": "python",
   "name": "python3"
  },
  "language_info": {
   "codemirror_mode": {
    "name": "ipython",
    "version": 3
   },
   "file_extension": ".py",
   "mimetype": "text/x-python",
   "name": "python",
   "nbconvert_exporter": "python",
   "pygments_lexer": "ipython3",
   "version": "3.7.7"
  }
 },
 "nbformat": 4,
 "nbformat_minor": 4
}
