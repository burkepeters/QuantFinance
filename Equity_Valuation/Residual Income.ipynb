{
 "cells": [
  {
   "cell_type": "markdown",
   "metadata": {},
   "source": [
    "an equity valuation method that is based on the idea that the value of a company's stock equals the present value of future residual incomes discounted at the appropriate cost of equity.\n",
    "\n",
    "Residual Income (RI) valuation is a method that takes the value of equity to be the present value of future income after appropriate equity charges or costs of equity have been accounted for."
   ]
  },
  {
   "cell_type": "code",
   "execution_count": 1,
   "metadata": {},
   "outputs": [],
   "source": [
    "r = 0.14\n",
    "BV_0 = 6.50\n",
    "EPS_1 = 1.10\n",
    "EPS_2 = 1.00\n",
    "EPS_3 = 0.95\n",
    "D_1 = 0.50\n",
    "D_2 = 0.60\n",
    "# D_3 liquidating dividend of all BV"
   ]
  },
  {
   "cell_type": "code",
   "execution_count": 2,
   "metadata": {},
   "outputs": [],
   "source": [
    "RI_1 = EPS_1 - (r*BV_0)"
   ]
  },
  {
   "cell_type": "code",
   "execution_count": 3,
   "metadata": {},
   "outputs": [],
   "source": [
    "BV_1 = BV_0 + EPS_1 - D_1"
   ]
  },
  {
   "cell_type": "code",
   "execution_count": 4,
   "metadata": {},
   "outputs": [],
   "source": [
    "RI_2 = EPS_2 - (r*BV_1)"
   ]
  },
  {
   "cell_type": "code",
   "execution_count": 5,
   "metadata": {},
   "outputs": [],
   "source": [
    "BV_2 = BV_1 + EPS_2 - D_2"
   ]
  },
  {
   "cell_type": "code",
   "execution_count": 6,
   "metadata": {},
   "outputs": [],
   "source": [
    "RI_3 = EPS_3 - (r*BV_2)"
   ]
  },
  {
   "cell_type": "code",
   "execution_count": 7,
   "metadata": {},
   "outputs": [],
   "source": [
    "cf0 = BV_0\n",
    "cf1 = RI_1\n",
    "cf2 = RI_2\n",
    "cf3 = RI_3"
   ]
  },
  {
   "cell_type": "code",
   "execution_count": 8,
   "metadata": {},
   "outputs": [],
   "source": [
    "import numpy_financial as npf"
   ]
  },
  {
   "cell_type": "code",
   "execution_count": 9,
   "metadata": {},
   "outputs": [
    {
     "data": {
      "text/plain": [
       "6.6"
      ]
     },
     "execution_count": 9,
     "metadata": {},
     "output_type": "execute_result"
    }
   ],
   "source": [
    "V = npf.npv(r, [cf0, cf1, cf2, cf3])\n",
    "\n",
    "round(V, 2)"
   ]
  }
 ],
 "metadata": {
  "kernelspec": {
   "display_name": "Python 3",
   "language": "python",
   "name": "python3"
  },
  "language_info": {
   "codemirror_mode": {
    "name": "ipython",
    "version": 3
   },
   "file_extension": ".py",
   "mimetype": "text/x-python",
   "name": "python",
   "nbconvert_exporter": "python",
   "pygments_lexer": "ipython3",
   "version": "3.7.7"
  }
 },
 "nbformat": 4,
 "nbformat_minor": 4
}
