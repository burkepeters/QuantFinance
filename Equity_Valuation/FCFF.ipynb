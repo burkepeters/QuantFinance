{
 "cells": [
  {
   "cell_type": "markdown",
   "metadata": {},
   "source": [
    "Free Cash Flows (FCF) relate to the cash available to the firms investors after outflows from supporting operations are taken into account. "
   ]
  },
  {
   "cell_type": "code",
   "execution_count": 1,
   "metadata": {},
   "outputs": [],
   "source": [
    "FCFF_0 = 5\n",
    "D_to_E = 0.25\n",
    "mkt_debt = 10\n",
    "common_shares = 2\n",
    "T = 0.40\n",
    "r = 0.16\n",
    "cost_of_debt = 0.08\n",
    "g = 0.05"
   ]
  },
  {
   "cell_type": "code",
   "execution_count": 2,
   "metadata": {},
   "outputs": [],
   "source": [
    "w_d = 0.25\n",
    "w_e = 0.75"
   ]
  },
  {
   "cell_type": "code",
   "execution_count": 3,
   "metadata": {},
   "outputs": [],
   "source": [
    "wacc = (w_e * r) + (w_d * cost_of_debt*(1-T))"
   ]
  },
  {
   "cell_type": "code",
   "execution_count": 4,
   "metadata": {},
   "outputs": [],
   "source": [
    "firm_value = (FCFF_0*(1+g))/(wacc-g)\n",
    "firm_value"
   ]
  },
  {
   "cell_type": "code",
   "execution_count": 5,
   "metadata": {},
   "outputs": [],
   "source": [
    "equity_value = firm_value - mkt_debt\n",
    "equity_value"
   ]
  },
  {
   "cell_type": "code",
   "execution_count": 6,
   "metadata": {},
   "outputs": [],
   "source": [
    "per_share_value = equity_value/common_shares\n",
    "per_share_value"
   ]
  },
  {
   "cell_type": "code",
   "execution_count": 7,
   "metadata": {},
   "outputs": [],
   "source": [
    "# Now, with two-stage FCFF Model\n",
    "npm = 0.20 #Net Profit Margin, percentage of Rev_0\n",
    "Rev_0 = 20\n",
    "FCInv_0 = 2\n",
    "Dep_0 = 3\n",
    "WCInv = 0.075 #percentage of Rev_0\n",
    "g = 0.10 # for five years\n",
    "g_lt = 0.05 # perp\n",
    "T = 0.40\n",
    "common_shares = 1\n",
    "debt = 0.125\n",
    "par = 32\n",
    "terminal_wacc = 0.15\n",
    "interrim_wacc = 0.17"
   ]
  },
  {
   "cell_type": "code",
   "execution_count": 8,
   "metadata": {},
   "outputs": [
    {
     "data": {
      "text/plain": [
       "5.9"
      ]
     },
     "execution_count": 8,
     "metadata": {},
     "output_type": "execute_result"
    }
   ],
   "source": [
    "fcff_0 = (npm * Rev_0) + (par*debt)*(1-T) + Dep_0 - FCInv_0 - (Rev_0*WCInv)\n",
    "fcff_0"
   ]
  },
  {
   "cell_type": "code",
   "execution_count": 9,
   "metadata": {},
   "outputs": [],
   "source": [
    "fcff_1 = fcff_0*(1+g)\n",
    "fcff_2 = fcff_1*(1+g)\n",
    "fcff_3 = fcff_2*(1+g)\n",
    "fcff_4 = fcff_3*(1+g)\n",
    "fcff_5 = fcff_4*(1+g)"
   ]
  },
  {
   "cell_type": "code",
   "execution_count": 10,
   "metadata": {},
   "outputs": [],
   "source": [
    "fcff_6 = fcff_5*(1+g_lt)"
   ]
  },
  {
   "cell_type": "code",
   "execution_count": 11,
   "metadata": {},
   "outputs": [],
   "source": [
    "V_5 = fcff_6/(terminal_wacc - g_lt)"
   ]
  },
  {
   "cell_type": "code",
   "execution_count": 12,
   "metadata": {},
   "outputs": [],
   "source": [
    "cf0 = 0\n",
    "cf1 = fcff_1\n",
    "cf2 = fcff_2\n",
    "cf3 = fcff_3\n",
    "cf4 = fcff_4\n",
    "cf5 = fcff_5 + V_5"
   ]
  },
  {
   "cell_type": "code",
   "execution_count": 13,
   "metadata": {},
   "outputs": [],
   "source": [
    "import numpy_financial as npf"
   ]
  },
  {
   "cell_type": "code",
   "execution_count": 14,
   "metadata": {},
   "outputs": [],
   "source": [
    "V_0 = npf.npv(interrim_wacc, [cf0, cf1, cf2, cf3, cf4, cf5])"
   ]
  },
  {
   "cell_type": "code",
   "execution_count": 15,
   "metadata": {},
   "outputs": [
    {
     "data": {
      "text/plain": [
       "70.11571599726382"
      ]
     },
     "execution_count": 15,
     "metadata": {},
     "output_type": "execute_result"
    }
   ],
   "source": [
    "V_0"
   ]
  },
  {
   "cell_type": "code",
   "execution_count": 16,
   "metadata": {},
   "outputs": [],
   "source": [
    "FCFE = V_0 - par"
   ]
  },
  {
   "cell_type": "code",
   "execution_count": 17,
   "metadata": {},
   "outputs": [
    {
     "data": {
      "text/plain": [
       "38.11571599726382"
      ]
     },
     "execution_count": 17,
     "metadata": {},
     "output_type": "execute_result"
    }
   ],
   "source": [
    "FCFE"
   ]
  }
 ],
 "metadata": {
  "kernelspec": {
   "display_name": "Python 3",
   "language": "python",
   "name": "python3"
  },
  "language_info": {
   "codemirror_mode": {
    "name": "ipython",
    "version": 3
   },
   "file_extension": ".py",
   "mimetype": "text/x-python",
   "name": "python",
   "nbconvert_exporter": "python",
   "pygments_lexer": "ipython3",
   "version": "3.7.7"
  }
 },
 "nbformat": 4,
 "nbformat_minor": 4
}
